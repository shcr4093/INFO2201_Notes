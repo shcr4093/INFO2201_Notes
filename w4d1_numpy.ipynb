{
 "cells": [
  {
   "cell_type": "markdown",
   "metadata": {
    "id": "MM5hwN3cJoNJ"
   },
   "source": [
    "# NumPy Basics\n",
    "\n",
    "NumPy is a library for the Python programming language, adding support for large, multi-dimensional arrays and matrices, along with a large collection of high-level mathematical functions to operate on these arrays.\n",
    "\n",
    "Things it works well with: \n",
    "* ndarray, an efficient multidimensional array providing fast array-oriented arithmetic\n",
    "operations and flexible broadcasting capabilities.\n",
    "* Mathematical functions for fast operations on entire arrays of data without having\n",
    "to write loops.\n",
    "* Tools for reading/writing array data to disk and working with memory-mapped\n",
    "files.\n",
    "* Linear algebra, random number generation, and Fourier transform capabilities.\n",
    "* A C API for connecting NumPy with libraries written in C, C++, or FORTRAN."
   ]
  },
  {
   "cell_type": "markdown",
   "metadata": {
    "id": "CG_fgQ1BJssc"
   },
   "source": [
    "### The NumPy ndarray\n",
    "\n",
    "#### What is an array?\n",
    "Array is a linear data structure where all elements are arranged sequentially. It is a collection of elements of same data type stored at contiguous memory locations. \n",
    "\n",
    "##### THESE OPERATE LIKE MATRICIES\n",
    "\n",
    "Lists are a type of array. Arrays are typically homogeneous, meaning they can only contain elements of the same data type. Strings are considered a specific type of array (character array) but are designed to represent textual data. In languages like Python, however, lists (a type of array) can contain elements of different types.\n",
    "\n",
    "Arrays have a unique interaction with the bytes of a computer. They have a distinct and defined memory space. "
   ]
  },
  {
   "cell_type": "code",
   "execution_count": 3,
   "metadata": {
    "executionInfo": {
     "elapsed": 3,
     "status": "ok",
     "timestamp": 1688669776179,
     "user": {
      "displayName": "Anas X384569",
      "userId": "13931278578707862625"
     },
     "user_tz": 360
    },
    "id": "nb3yB-urHFuE"
   },
   "outputs": [],
   "source": [
    "# importing numpy library\n",
    "import numpy as np"
   ]
  },
  {
   "cell_type": "code",
   "execution_count": 1,
   "metadata": {
    "executionInfo": {
     "elapsed": 306,
     "status": "ok",
     "timestamp": 1688669776483,
     "user": {
      "displayName": "Anas X384569",
      "userId": "13931278578707862625"
     },
     "user_tz": 360
    },
    "id": "U_xHk4VtKL8C"
   },
   "outputs": [],
   "source": [
    "#make a random number\n"
   ]
  },
  {
   "cell_type": "code",
   "execution_count": 2,
   "metadata": {
    "colab": {
     "base_uri": "https://localhost:8080/"
    },
    "executionInfo": {
     "elapsed": 21,
     "status": "ok",
     "timestamp": 1688669776484,
     "user": {
      "displayName": "Anas X384569",
      "userId": "13931278578707862625"
     },
     "user_tz": 360
    },
    "id": "nRR5Zk_BKN8d",
    "outputId": "7c6b2d15-e4ab-4db3-bbed-c1d367ef7f55"
   },
   "outputs": [],
   "source": [
    "#what type of data is it?\n",
    "# type(data)"
   ]
  },
  {
   "cell_type": "code",
   "execution_count": 3,
   "metadata": {
    "colab": {
     "base_uri": "https://localhost:8080/"
    },
    "executionInfo": {
     "elapsed": 20,
     "status": "ok",
     "timestamp": 1688669776484,
     "user": {
      "displayName": "Anas X384569",
      "userId": "13931278578707862625"
     },
     "user_tz": 360
    },
    "id": "KADIa1L8KPd7",
    "outputId": "b4918fd1-f542-4e85-cb28-e0e9a930b932"
   },
   "outputs": [],
   "source": [
    "#can you multiply against it?"
   ]
  },
  {
   "cell_type": "code",
   "execution_count": 4,
   "metadata": {
    "colab": {
     "base_uri": "https://localhost:8080/"
    },
    "executionInfo": {
     "elapsed": 18,
     "status": "ok",
     "timestamp": 1688669776484,
     "user": {
      "displayName": "Anas X384569",
      "userId": "13931278578707862625"
     },
     "user_tz": 360
    },
    "id": "_jhr1AKGKQVO",
    "outputId": "49be2eaa-edbe-4328-e540-af5581356722"
   },
   "outputs": [],
   "source": [
    "#what happens when you add it together\n"
   ]
  },
  {
   "cell_type": "code",
   "execution_count": 5,
   "metadata": {
    "colab": {
     "base_uri": "https://localhost:8080/"
    },
    "executionInfo": {
     "elapsed": 18,
     "status": "ok",
     "timestamp": 1688669776485,
     "user": {
      "displayName": "Anas X384569",
      "userId": "13931278578707862625"
     },
     "user_tz": 360
    },
    "id": "WJEGHlQTKTnA",
    "outputId": "6cc8e6ea-d063-4d20-c008-c409250c4bc3"
   },
   "outputs": [],
   "source": [
    "#how big is it?/what are the dimensions of the array?\n"
   ]
  },
  {
   "cell_type": "code",
   "execution_count": null,
   "metadata": {
    "executionInfo": {
     "elapsed": 15,
     "status": "ok",
     "timestamp": 1688669776485,
     "user": {
      "displayName": "Anas X384569",
      "userId": "13931278578707862625"
     },
     "user_tz": 360
    },
    "id": "8th8DJGyjLOu"
   },
   "outputs": [],
   "source": []
  },
  {
   "cell_type": "markdown",
   "metadata": {
    "id": "R0UuVA6iKhMv"
   },
   "source": [
    "## Creating ndarrays"
   ]
  },
  {
   "cell_type": "code",
   "execution_count": null,
   "metadata": {
    "executionInfo": {
     "elapsed": 15,
     "status": "ok",
     "timestamp": 1688669776485,
     "user": {
      "displayName": "Anas X384569",
      "userId": "13931278578707862625"
     },
     "user_tz": 360
    },
    "id": "bRY8vz43KUnC"
   },
   "outputs": [],
   "source": []
  },
  {
   "cell_type": "code",
   "execution_count": 6,
   "metadata": {
    "executionInfo": {
     "elapsed": 15,
     "status": "ok",
     "timestamp": 1688669776486,
     "user": {
      "displayName": "Anas X384569",
      "userId": "13931278578707862625"
     },
     "user_tz": 360
    },
    "id": "ZEqRLPpAKnnY"
   },
   "outputs": [],
   "source": [
    "# convert list to numpy array\n"
   ]
  },
  {
   "cell_type": "code",
   "execution_count": 7,
   "metadata": {
    "executionInfo": {
     "elapsed": 13,
     "status": "ok",
     "timestamp": 1688669776486,
     "user": {
      "displayName": "Anas X384569",
      "userId": "13931278578707862625"
     },
     "user_tz": 360
    },
    "id": "TUE5rJOgKqtW"
   },
   "outputs": [],
   "source": [
    "# make another list\n"
   ]
  },
  {
   "cell_type": "code",
   "execution_count": 8,
   "metadata": {
    "executionInfo": {
     "elapsed": 13,
     "status": "ok",
     "timestamp": 1688669776486,
     "user": {
      "displayName": "Anas X384569",
      "userId": "13931278578707862625"
     },
     "user_tz": 360
    },
    "id": "HpNpeyQHj0XG"
   },
   "outputs": [],
   "source": [
    "#make it an array\n"
   ]
  },
  {
   "cell_type": "markdown",
   "metadata": {},
   "source": [
    "ndarray.ndim\n",
    "\n",
    "Number of array dimensions.\n",
    "\n",
    "https://numpy.org/doc/stable/reference/generated/numpy.ndarray.ndim.html"
   ]
  },
  {
   "cell_type": "code",
   "execution_count": 9,
   "metadata": {
    "colab": {
     "base_uri": "https://localhost:8080/"
    },
    "executionInfo": {
     "elapsed": 14,
     "status": "ok",
     "timestamp": 1688669776487,
     "user": {
      "displayName": "Anas X384569",
      "userId": "13931278578707862625"
     },
     "user_tz": 360
    },
    "id": "qYkC2ygLKsGQ",
    "outputId": "92d87d7d-89c9-4322-9f92-a240142c7bdd"
   },
   "outputs": [],
   "source": [
    "# to check the dimention of the array\n",
    "\n"
   ]
  },
  {
   "cell_type": "code",
   "execution_count": 10,
   "metadata": {
    "colab": {
     "base_uri": "https://localhost:8080/"
    },
    "executionInfo": {
     "elapsed": 13,
     "status": "ok",
     "timestamp": 1688669776487,
     "user": {
      "displayName": "Anas X384569",
      "userId": "13931278578707862625"
     },
     "user_tz": 360
    },
    "id": "ObuVa7cZKzKw",
    "outputId": "bb552947-ec4f-466d-9fcb-7cd9389ddd8d"
   },
   "outputs": [],
   "source": [
    "#what does the array look like\n",
    "#arr2\n",
    "\n"
   ]
  },
  {
   "cell_type": "code",
   "execution_count": 11,
   "metadata": {
    "colab": {
     "base_uri": "https://localhost:8080/"
    },
    "executionInfo": {
     "elapsed": 12,
     "status": "ok",
     "timestamp": 1688669776487,
     "user": {
      "displayName": "Anas X384569",
      "userId": "13931278578707862625"
     },
     "user_tz": 360
    },
    "id": "gfLIoTWiK0qW",
    "outputId": "a700863d-6ade-4596-9c1d-c319d8f944fd"
   },
   "outputs": [],
   "source": [
    "#reminder of the first array\n"
   ]
  },
  {
   "cell_type": "code",
   "execution_count": 12,
   "metadata": {},
   "outputs": [],
   "source": [
    "#what are the dimensions of the first array?\n"
   ]
  },
  {
   "cell_type": "markdown",
   "metadata": {},
   "source": [
    "ndarray.shape\n",
    "\n",
    "Tuple of array dimensions.\n",
    "\n",
    "The shape property is usually used to get the current shape of an array, but may also be used to reshape the array in-place by assigning a tuple of array dimensions to it\n",
    "\n",
    "https://numpy.org/doc/stable/reference/generated/numpy.ndarray.shape.html\n",
    "\n",
    "![arrayimg][https://www.sharpsightlabs.com/wp-content/uploads/2099/01/numpy-array-shape-attribute-visual-explanation.png]"
   ]
  },
  {
   "cell_type": "code",
   "execution_count": 13,
   "metadata": {
    "colab": {
     "base_uri": "https://localhost:8080/"
    },
    "executionInfo": {
     "elapsed": 11,
     "status": "ok",
     "timestamp": 1688669776487,
     "user": {
      "displayName": "Anas X384569",
      "userId": "13931278578707862625"
     },
     "user_tz": 360
    },
    "id": "LZisl1G5K30g",
    "outputId": "221c6079-ff86-47a1-cb23-825e1c6c2a43"
   },
   "outputs": [],
   "source": [
    "#but waht is the shape? \n"
   ]
  },
  {
   "cell_type": "code",
   "execution_count": 25,
   "metadata": {},
   "outputs": [
    {
     "data": {
      "text/plain": [
       "(5,)"
      ]
     },
     "execution_count": 25,
     "metadata": {},
     "output_type": "execute_result"
    }
   ],
   "source": [
    "#compared to the other array?"
   ]
  },
  {
   "cell_type": "markdown",
   "metadata": {},
   "source": [
    "ndarray.dtype\n",
    "\n",
    "Data-type of the array’s elements. This similar to how a list i a type of array but how a pure numpy array can only have one type of element\n",
    "\n",
    "https://numpy.org/doc/stable/reference/generated/numpy.ndarray.dtype.html"
   ]
  },
  {
   "cell_type": "code",
   "execution_count": 14,
   "metadata": {
    "colab": {
     "base_uri": "https://localhost:8080/"
    },
    "executionInfo": {
     "elapsed": 9,
     "status": "ok",
     "timestamp": 1688669776487,
     "user": {
      "displayName": "Anas X384569",
      "userId": "13931278578707862625"
     },
     "user_tz": 360
    },
    "id": "QcfI787FK8cq",
    "outputId": "0d5bb8f6-6e4b-490e-ff72-f3dd34031110"
   },
   "outputs": [],
   "source": [
    "#what is the data type of the first array?\n",
    "\n"
   ]
  },
  {
   "cell_type": "code",
   "execution_count": 15,
   "metadata": {
    "colab": {
     "base_uri": "https://localhost:8080/"
    },
    "executionInfo": {
     "elapsed": 431,
     "status": "ok",
     "timestamp": 1688669776910,
     "user": {
      "displayName": "Anas X384569",
      "userId": "13931278578707862625"
     },
     "user_tz": 360
    },
    "id": "gqzFS5FiK-a_",
    "outputId": "f0b5b29a-27aa-4e2e-f7f3-632e8649cc52"
   },
   "outputs": [],
   "source": [
    "#what is the data type of the second array?\n",
    "\n"
   ]
  },
  {
   "cell_type": "code",
   "execution_count": 16,
   "metadata": {
    "colab": {
     "base_uri": "https://localhost:8080/"
    },
    "executionInfo": {
     "elapsed": 27,
     "status": "ok",
     "timestamp": 1688669776910,
     "user": {
      "displayName": "Anas X384569",
      "userId": "13931278578707862625"
     },
     "user_tz": 360
    },
    "id": "GfVqmSgKkNbE",
    "outputId": "382125e4-23e8-4f16-98b2-b26fae7adfb4"
   },
   "outputs": [],
   "source": [
    "#lets set an array of zeros\n"
   ]
  },
  {
   "cell_type": "code",
   "execution_count": 17,
   "metadata": {
    "colab": {
     "base_uri": "https://localhost:8080/"
    },
    "executionInfo": {
     "elapsed": 26,
     "status": "ok",
     "timestamp": 1688669776911,
     "user": {
      "displayName": "Anas X384569",
      "userId": "13931278578707862625"
     },
     "user_tz": 360
    },
    "id": "k4meChARkNK6",
    "outputId": "b2f6995d-b8de-4fed-e503-15fb687abc72"
   },
   "outputs": [],
   "source": [
    "# lets make an aray that is a range of numbers"
   ]
  },
  {
   "cell_type": "code",
   "execution_count": 18,
   "metadata": {
    "colab": {
     "base_uri": "https://localhost:8080/"
    },
    "executionInfo": {
     "elapsed": 25,
     "status": "ok",
     "timestamp": 1688669776911,
     "user": {
      "displayName": "Anas X384569",
      "userId": "13931278578707862625"
     },
     "user_tz": 360
    },
    "id": "oUN09DCNkNCL",
    "outputId": "a6471a5a-2cb1-492e-bfee-0a46e2373392"
   },
   "outputs": [],
   "source": [
    "# lets make an array with certain dimensions/ is a certain shape"
   ]
  },
  {
   "cell_type": "code",
   "execution_count": null,
   "metadata": {
    "executionInfo": {
     "elapsed": 24,
     "status": "ok",
     "timestamp": 1688669776911,
     "user": {
      "displayName": "Anas X384569",
      "userId": "13931278578707862625"
     },
     "user_tz": 360
    },
    "id": "nUneMkywkMy6"
   },
   "outputs": [],
   "source": []
  },
  {
   "cell_type": "markdown",
   "metadata": {
    "id": "MQlaogJlLK9X"
   },
   "source": [
    "## Data Types for ndarrays"
   ]
  },
  {
   "cell_type": "code",
   "execution_count": 19,
   "metadata": {
    "colab": {
     "base_uri": "https://localhost:8080/"
    },
    "executionInfo": {
     "elapsed": 23,
     "status": "ok",
     "timestamp": 1688669776911,
     "user": {
      "displayName": "Anas X384569",
      "userId": "13931278578707862625"
     },
     "user_tz": 360
    },
    "id": "jP5WNFReLBjK",
    "outputId": "de8fa9bc-e029-4c87-af67-eb5514ec23f3"
   },
   "outputs": [],
   "source": [
    "# create a numpy array"
   ]
  },
  {
   "cell_type": "code",
   "execution_count": 20,
   "metadata": {
    "executionInfo": {
     "elapsed": 22,
     "status": "ok",
     "timestamp": 1688669776911,
     "user": {
      "displayName": "Anas X384569",
      "userId": "13931278578707862625"
     },
     "user_tz": 360
    },
    "id": "FVJNGsUfLdy1"
   },
   "outputs": [],
   "source": [
    "# change the array to float\n",
    "\n",
    "#check"
   ]
  },
  {
   "cell_type": "code",
   "execution_count": 21,
   "metadata": {
    "colab": {
     "base_uri": "https://localhost:8080/"
    },
    "executionInfo": {
     "elapsed": 22,
     "status": "ok",
     "timestamp": 1688669776912,
     "user": {
      "displayName": "Anas X384569",
      "userId": "13931278578707862625"
     },
     "user_tz": 360
    },
    "id": "tgDAoPY4lHW0",
    "outputId": "38151230-5226-42a7-d867-8da5101a752f"
   },
   "outputs": [],
   "source": [
    "#make one that is automatically a float array \n"
   ]
  },
  {
   "cell_type": "code",
   "execution_count": 22,
   "metadata": {
    "colab": {
     "base_uri": "https://localhost:8080/"
    },
    "executionInfo": {
     "elapsed": 21,
     "status": "ok",
     "timestamp": 1688669776912,
     "user": {
      "displayName": "Anas X384569",
      "userId": "13931278578707862625"
     },
     "user_tz": 360
    },
    "id": "hNXii2kBlHKa",
    "outputId": "92662f7e-49de-4732-9b8b-577fcbef723c"
   },
   "outputs": [],
   "source": [
    "# convert the array to integer\n"
   ]
  },
  {
   "cell_type": "markdown",
   "metadata": {
    "id": "oV-wSyvtLyPW"
   },
   "source": [
    "## Arithmetic with NumPy Arrays"
   ]
  },
  {
   "cell_type": "code",
   "execution_count": 23,
   "metadata": {
    "executionInfo": {
     "elapsed": 20,
     "status": "ok",
     "timestamp": 1688669776912,
     "user": {
      "displayName": "Anas X384569",
      "userId": "13931278578707862625"
     },
     "user_tz": 360
    },
    "id": "w4iQiAJXLpol"
   },
   "outputs": [],
   "source": [
    "#make a 2 dimensional array\n",
    "\n",
    "# check\n"
   ]
  },
  {
   "cell_type": "code",
   "execution_count": 24,
   "metadata": {
    "colab": {
     "base_uri": "https://localhost:8080/"
    },
    "executionInfo": {
     "elapsed": 19,
     "status": "ok",
     "timestamp": 1688669776913,
     "user": {
      "displayName": "Anas X384569",
      "userId": "13931278578707862625"
     },
     "user_tz": 360
    },
    "id": "YpG3KQWOL1BV",
    "outputId": "99633a77-f719-41d1-ebcd-664264de30e2"
   },
   "outputs": [],
   "source": [
    "#Multiply \n"
   ]
  },
  {
   "cell_type": "code",
   "execution_count": 25,
   "metadata": {
    "colab": {
     "base_uri": "https://localhost:8080/"
    },
    "executionInfo": {
     "elapsed": 18,
     "status": "ok",
     "timestamp": 1688669776913,
     "user": {
      "displayName": "Anas X384569",
      "userId": "13931278578707862625"
     },
     "user_tz": 360
    },
    "id": "DMuVB4oBL2bB",
    "outputId": "003b833d-5f6e-4f37-e1a9-c792b26c7551"
   },
   "outputs": [],
   "source": [
    "#subtract\n"
   ]
  },
  {
   "cell_type": "code",
   "execution_count": 26,
   "metadata": {
    "colab": {
     "base_uri": "https://localhost:8080/"
    },
    "executionInfo": {
     "elapsed": 17,
     "status": "ok",
     "timestamp": 1688669776913,
     "user": {
      "displayName": "Anas X384569",
      "userId": "13931278578707862625"
     },
     "user_tz": 360
    },
    "id": "aKicMwnoL3hl",
    "outputId": "12d9eddb-0e80-413e-845c-efca76f3ecaa"
   },
   "outputs": [],
   "source": [
    "# addition\n"
   ]
  },
  {
   "cell_type": "code",
   "execution_count": 27,
   "metadata": {
    "colab": {
     "base_uri": "https://localhost:8080/"
    },
    "executionInfo": {
     "elapsed": 16,
     "status": "ok",
     "timestamp": 1688669776913,
     "user": {
      "displayName": "Anas X384569",
      "userId": "13931278578707862625"
     },
     "user_tz": 360
    },
    "id": "w6gUYy4nL4v2",
    "outputId": "1d5cdded-b088-4321-b4fb-ed47bf220af8"
   },
   "outputs": [],
   "source": [
    "#Fraction \n"
   ]
  },
  {
   "cell_type": "code",
   "execution_count": 28,
   "metadata": {
    "colab": {
     "base_uri": "https://localhost:8080/"
    },
    "executionInfo": {
     "elapsed": 14,
     "status": "ok",
     "timestamp": 1688669776913,
     "user": {
      "displayName": "Anas X384569",
      "userId": "13931278578707862625"
     },
     "user_tz": 360
    },
    "id": "yL1Y6pwGL5wG",
    "outputId": "c717cea4-0d8d-4e88-884a-c532a92731c0"
   },
   "outputs": [],
   "source": [
    "#multiply by a float\n",
    "\n"
   ]
  },
  {
   "cell_type": "code",
   "execution_count": 29,
   "metadata": {
    "executionInfo": {
     "elapsed": 14,
     "status": "ok",
     "timestamp": 1688669776914,
     "user": {
      "displayName": "Anas X384569",
      "userId": "13931278578707862625"
     },
     "user_tz": 360
    },
    "id": "xE74e-VSL8GN"
   },
   "outputs": [],
   "source": [
    "#make another array\n",
    "\n"
   ]
  },
  {
   "cell_type": "code",
   "execution_count": 30,
   "metadata": {
    "colab": {
     "base_uri": "https://localhost:8080/"
    },
    "executionInfo": {
     "elapsed": 14,
     "status": "ok",
     "timestamp": 1688669776914,
     "user": {
      "displayName": "Anas X384569",
      "userId": "13931278578707862625"
     },
     "user_tz": 360
    },
    "id": "szfYM1kwL8yO",
    "outputId": "ea416c5e-3790-48e4-a7af-107721e870a9"
   },
   "outputs": [],
   "source": [
    "#array 1 check\n"
   ]
  },
  {
   "cell_type": "code",
   "execution_count": 31,
   "metadata": {
    "colab": {
     "base_uri": "https://localhost:8080/"
    },
    "executionInfo": {
     "elapsed": 12,
     "status": "ok",
     "timestamp": 1688669776914,
     "user": {
      "displayName": "Anas X384569",
      "userId": "13931278578707862625"
     },
     "user_tz": 360
    },
    "id": "qBpMZZvmmUfG",
    "outputId": "1e25a166-e60a-43df-c915-b74fcce1399c"
   },
   "outputs": [],
   "source": [
    "# array 2 check \n"
   ]
  },
  {
   "cell_type": "code",
   "execution_count": 32,
   "metadata": {
    "colab": {
     "base_uri": "https://localhost:8080/"
    },
    "executionInfo": {
     "elapsed": 11,
     "status": "ok",
     "timestamp": 1688669776914,
     "user": {
      "displayName": "Anas X384569",
      "userId": "13931278578707862625"
     },
     "user_tz": 360
    },
    "id": "tNwaBYfOmV1U",
    "outputId": "ba11934a-b6ee-4cce-a30d-f2b2764128e6"
   },
   "outputs": [],
   "source": [
    "#compare the two arrays\n"
   ]
  },
  {
   "cell_type": "markdown",
   "metadata": {},
   "source": [
    "### Exercise 1:\n",
    " \n",
    "Make two 2D arrays and devide the first one by the second"
   ]
  },
  {
   "cell_type": "code",
   "execution_count": null,
   "metadata": {
    "colab": {
     "base_uri": "https://localhost:8080/"
    },
    "executionInfo": {
     "elapsed": 413,
     "status": "ok",
     "timestamp": 1688669777318,
     "user": {
      "displayName": "Anas X384569",
      "userId": "13931278578707862625"
     },
     "user_tz": 360
    },
    "id": "ohuh2JzPMc_7",
    "outputId": "04697be1-6a38-47bc-e2ea-f7babf6ed687"
   },
   "outputs": [],
   "source": []
  },
  {
   "cell_type": "code",
   "execution_count": null,
   "metadata": {
    "executionInfo": {
     "elapsed": 40,
     "status": "ok",
     "timestamp": 1688669777319,
     "user": {
      "displayName": "Anas X384569",
      "userId": "13931278578707862625"
     },
     "user_tz": 360
    },
    "id": "ZrwrOqDVMvR0"
   },
   "outputs": [],
   "source": []
  },
  {
   "cell_type": "markdown",
   "metadata": {
    "id": "LS1OlQ7JMER7"
   },
   "source": [
    "## Indexing and Slicing"
   ]
  },
  {
   "cell_type": "code",
   "execution_count": 33,
   "metadata": {
    "colab": {
     "base_uri": "https://localhost:8080/"
    },
    "executionInfo": {
     "elapsed": 40,
     "status": "ok",
     "timestamp": 1688669777319,
     "user": {
      "displayName": "Anas X384569",
      "userId": "13931278578707862625"
     },
     "user_tz": 360
    },
    "id": "33BExhxxL-D1",
    "outputId": "5f3f44ba-f9ca-4800-d88e-a374cf09e670"
   },
   "outputs": [],
   "source": [
    "#make an array of 10 numbers\n"
   ]
  },
  {
   "cell_type": "code",
   "execution_count": 34,
   "metadata": {
    "colab": {
     "base_uri": "https://localhost:8080/"
    },
    "executionInfo": {
     "elapsed": 37,
     "status": "ok",
     "timestamp": 1688669777319,
     "user": {
      "displayName": "Anas X384569",
      "userId": "13931278578707862625"
     },
     "user_tz": 360
    },
    "id": "uoomaQRcMOn8",
    "outputId": "63bdd982-0ce3-4191-8ce0-6ba213e952f3"
   },
   "outputs": [],
   "source": [
    "#grab the first one (aka) the one at poistion 0\n"
   ]
  },
  {
   "cell_type": "code",
   "execution_count": 35,
   "metadata": {
    "colab": {
     "base_uri": "https://localhost:8080/"
    },
    "executionInfo": {
     "elapsed": 35,
     "status": "ok",
     "timestamp": 1688669777319,
     "user": {
      "displayName": "Anas X384569",
      "userId": "13931278578707862625"
     },
     "user_tz": 360
    },
    "id": "D4YXYcvUMPsn",
    "outputId": "0d8ba973-67b3-4e56-a22d-40f26a3f78e3"
   },
   "outputs": [],
   "source": [
    "#grab the one in the 8th position (aka) the 9th number\n"
   ]
  },
  {
   "cell_type": "markdown",
   "metadata": {},
   "source": [
    "The basic slice syntax is i:j:k where i is the starting index, j is the stopping index, and k is the step ().\n",
    "\n",
    "START MEANS THAT LOOK AT IT BUT DON\"T PRINT IT - IT STOPS WHEN IT IS GOING TO REACH THE STOPPING INDEX"
   ]
  },
  {
   "cell_type": "code",
   "execution_count": 36,
   "metadata": {
    "colab": {
     "base_uri": "https://localhost:8080/"
    },
    "executionInfo": {
     "elapsed": 35,
     "status": "ok",
     "timestamp": 1688669777320,
     "user": {
      "displayName": "Anas X384569",
      "userId": "13931278578707862625"
     },
     "user_tz": 360
    },
    "id": "COyKlT2tMRNU",
    "outputId": "2f2629d2-06e9-4605-dafe-7a5d9655c669"
   },
   "outputs": [],
   "source": [
    "#get the numbers that sart at the 5th position and stop at the 8th position \n"
   ]
  },
  {
   "cell_type": "code",
   "execution_count": 37,
   "metadata": {
    "colab": {
     "base_uri": "https://localhost:8080/"
    },
    "executionInfo": {
     "elapsed": 34,
     "status": "ok",
     "timestamp": 1688669777320,
     "user": {
      "displayName": "Anas X384569",
      "userId": "13931278578707862625"
     },
     "user_tz": 360
    },
    "id": "gh8fsvU-MUF5",
    "outputId": "fde7aa49-9850-440c-8362-224ee91cec9c"
   },
   "outputs": [],
   "source": [
    "#get everything after the 4th positon (aka) the 5th number\n"
   ]
  },
  {
   "cell_type": "code",
   "execution_count": 38,
   "metadata": {
    "colab": {
     "base_uri": "https://localhost:8080/"
    },
    "executionInfo": {
     "elapsed": 33,
     "status": "ok",
     "timestamp": 1688669777320,
     "user": {
      "displayName": "Anas X384569",
      "userId": "13931278578707862625"
     },
     "user_tz": 360
    },
    "id": "frv2NSAeMUbY",
    "outputId": "8059199f-b065-4658-c925-f2f532faa9b7"
   },
   "outputs": [],
   "source": [
    "#get everythin before the 4th position (aka) the 5th number\n"
   ]
  },
  {
   "cell_type": "code",
   "execution_count": 39,
   "metadata": {
    "executionInfo": {
     "elapsed": 30,
     "status": "ok",
     "timestamp": 1688669777320,
     "user": {
      "displayName": "Anas X384569",
      "userId": "13931278578707862625"
     },
     "user_tz": 360
    },
    "id": "jA1G4xOCMmGp"
   },
   "outputs": [],
   "source": [
    "#overwrte the numbers between the 5th and 8th position\n"
   ]
  },
  {
   "cell_type": "code",
   "execution_count": 72,
   "metadata": {
    "colab": {
     "base_uri": "https://localhost:8080/"
    },
    "executionInfo": {
     "elapsed": 31,
     "status": "ok",
     "timestamp": 1688669777321,
     "user": {
      "displayName": "Anas X384569",
      "userId": "13931278578707862625"
     },
     "user_tz": 360
    },
    "id": "5VKusxfmq95G",
    "outputId": "0b875121-e319-4103-bed9-70d612792765"
   },
   "outputs": [
    {
     "data": {
      "text/plain": [
       "array([0, 1, 2, 3, 4, 0, 0, 0, 8, 9])"
      ]
     },
     "execution_count": 72,
     "metadata": {},
     "output_type": "execute_result"
    }
   ],
   "source": [
    "#check"
   ]
  },
  {
   "cell_type": "code",
   "execution_count": 40,
   "metadata": {
    "colab": {
     "base_uri": "https://localhost:8080/"
    },
    "executionInfo": {
     "elapsed": 30,
     "status": "ok",
     "timestamp": 1688669777321,
     "user": {
      "displayName": "Anas X384569",
      "userId": "13931278578707862625"
     },
     "user_tz": 360
    },
    "id": "b98c8VUkq9rO",
    "outputId": "55b14d64-30c9-4442-a09f-4a47de720120"
   },
   "outputs": [],
   "source": [
    "# assign a slice to a variable\n"
   ]
  },
  {
   "cell_type": "code",
   "execution_count": 41,
   "metadata": {
    "executionInfo": {
     "elapsed": 29,
     "status": "ok",
     "timestamp": 1688669777321,
     "user": {
      "displayName": "Anas X384569",
      "userId": "13931278578707862625"
     },
     "user_tz": 360
    },
    "id": "v899K6pZrTh7"
   },
   "outputs": [],
   "source": [
    "#overwrite the second item in the sub array\n"
   ]
  },
  {
   "cell_type": "code",
   "execution_count": 42,
   "metadata": {
    "colab": {
     "base_uri": "https://localhost:8080/"
    },
    "executionInfo": {
     "elapsed": 27,
     "status": "ok",
     "timestamp": 1688669777321,
     "user": {
      "displayName": "Anas X384569",
      "userId": "13931278578707862625"
     },
     "user_tz": 360
    },
    "id": "pkUQqVpSrgxG",
    "outputId": "590c53e8-ba85-4c8a-8aae-1b8ef49f80d5"
   },
   "outputs": [],
   "source": [
    "# how does this affect the original array?\n"
   ]
  },
  {
   "cell_type": "markdown",
   "metadata": {},
   "source": [
    "### A Multidimensional Array\n",
    "\n",
    "![image.png](data:image/png;base64,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)"
   ]
  },
  {
   "cell_type": "code",
   "execution_count": 76,
   "metadata": {
    "colab": {
     "base_uri": "https://localhost:8080/"
    },
    "executionInfo": {
     "elapsed": 11,
     "status": "ok",
     "timestamp": 1688669777625,
     "user": {
      "displayName": "Anas X384569",
      "userId": "13931278578707862625"
     },
     "user_tz": 360
    },
    "id": "7dN7CNN_vjHW",
    "outputId": "7c953df8-ec55-4102-b8fa-15aeebecba2b"
   },
   "outputs": [
    {
     "data": {
      "text/plain": [
       "(10,)"
      ]
     },
     "execution_count": 76,
     "metadata": {},
     "output_type": "execute_result"
    }
   ],
   "source": [
    "#what is the shape that we've been working with? "
   ]
  },
  {
   "cell_type": "code",
   "execution_count": 77,
   "metadata": {},
   "outputs": [
    {
     "data": {
      "text/plain": [
       "1"
      ]
     },
     "execution_count": 77,
     "metadata": {},
     "output_type": "execute_result"
    }
   ],
   "source": [
    "#wht are the dimensions?\n"
   ]
  },
  {
   "cell_type": "code",
   "execution_count": 43,
   "metadata": {},
   "outputs": [],
   "source": [
    "#remmeber array 1?\n"
   ]
  },
  {
   "cell_type": "code",
   "execution_count": 83,
   "metadata": {},
   "outputs": [
    {
     "data": {
      "text/plain": [
       "(2, 4)"
      ]
     },
     "execution_count": 83,
     "metadata": {},
     "output_type": "execute_result"
    }
   ],
   "source": [
    "#what is the shape?"
   ]
  },
  {
   "cell_type": "code",
   "execution_count": 44,
   "metadata": {},
   "outputs": [],
   "source": [
    "#dimensions\n"
   ]
  },
  {
   "cell_type": "code",
   "execution_count": 45,
   "metadata": {},
   "outputs": [],
   "source": [
    "#make a 2D array\n"
   ]
  },
  {
   "cell_type": "code",
   "execution_count": 46,
   "metadata": {},
   "outputs": [],
   "source": [
    "#if we add another sublist does that make it 3D? - no\n"
   ]
  },
  {
   "cell_type": "code",
   "execution_count": 47,
   "metadata": {},
   "outputs": [],
   "source": [
    "#make a 3D array"
   ]
  },
  {
   "cell_type": "code",
   "execution_count": null,
   "metadata": {},
   "outputs": [],
   "source": []
  },
  {
   "cell_type": "markdown",
   "metadata": {},
   "source": [
    "### MultiDimension Indexing\n",
    "\n",
    "![image.png](data:image/png;base64,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)"
   ]
  },
  {
   "cell_type": "code",
   "execution_count": 48,
   "metadata": {},
   "outputs": [],
   "source": [
    "#what is at the second position of the array? \n"
   ]
  },
  {
   "cell_type": "code",
   "execution_count": 49,
   "metadata": {},
   "outputs": [],
   "source": [
    "#what is the 2nd position of the 0th posiition\n"
   ]
  },
  {
   "cell_type": "code",
   "execution_count": 50,
   "metadata": {},
   "outputs": [],
   "source": [
    "#get the second value of the second array\n"
   ]
  },
  {
   "cell_type": "code",
   "execution_count": 51,
   "metadata": {},
   "outputs": [],
   "source": [
    "#what is at th e0th position of our 3d array\n"
   ]
  },
  {
   "cell_type": "code",
   "execution_count": 107,
   "metadata": {},
   "outputs": [
    {
     "data": {
      "text/plain": [
       "array([8, 9])"
      ]
     },
     "execution_count": 107,
     "metadata": {},
     "output_type": "execute_result"
    }
   ],
   "source": [
    "#get [8,9]\n"
   ]
  },
  {
   "cell_type": "markdown",
   "metadata": {},
   "source": [
    "### 2D Slicing\n",
    "\n",
    "![image.png](data:image/png;base64,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)"
   ]
  },
  {
   "cell_type": "code",
   "execution_count": 52,
   "metadata": {},
   "outputs": [],
   "source": [
    "#get the last two items in the first two subarrays\n"
   ]
  },
  {
   "cell_type": "code",
   "execution_count": 53,
   "metadata": {},
   "outputs": [],
   "source": [
    "#get only the last sub array\n"
   ]
  },
  {
   "cell_type": "code",
   "execution_count": 54,
   "metadata": {},
   "outputs": [],
   "source": [
    "#get the first two variabels in all of the sub arrays\n"
   ]
  },
  {
   "cell_type": "code",
   "execution_count": 55,
   "metadata": {},
   "outputs": [],
   "source": [
    "#get 4,5\n"
   ]
  },
  {
   "cell_type": "code",
   "execution_count": null,
   "metadata": {},
   "outputs": [],
   "source": []
  },
  {
   "cell_type": "markdown",
   "metadata": {},
   "source": [
    "### Exercise 2: using the following array\n",
    "\n",
    "arr3d = np.array([[[1, 2, 3], [4, 5, 6]], [[7, 8, 9], [10, 11, 12]]])\n",
    "\n",
    "use indexing to get the following values\n",
    "\n",
    "\n",
    "*   [10, 11, 12]\n",
    "*   [8]\n",
    "*   [5, 6]"
   ]
  },
  {
   "cell_type": "code",
   "execution_count": null,
   "metadata": {},
   "outputs": [],
   "source": []
  },
  {
   "cell_type": "code",
   "execution_count": null,
   "metadata": {},
   "outputs": [],
   "source": []
  },
  {
   "cell_type": "markdown",
   "metadata": {},
   "source": [
    "## Transposing Arrays and Swapping Axes"
   ]
  },
  {
   "cell_type": "code",
   "execution_count": null,
   "metadata": {},
   "outputs": [],
   "source": [
    "# make an array of 15 numbers\n"
   ]
  },
  {
   "cell_type": "code",
   "execution_count": null,
   "metadata": {},
   "outputs": [],
   "source": [
    "# reshaping the array to change the dimention to be (3,5)\n"
   ]
  },
  {
   "cell_type": "markdown",
   "metadata": {},
   "source": [
    "Transpose \n",
    "\n",
    "The transpose of a matrix is simply a flipped version of the original matrix. We can transpose a matrix by switching its rows with its columns. We denote the transpose of matrix A by A^T"
   ]
  },
  {
   "cell_type": "code",
   "execution_count": null,
   "metadata": {},
   "outputs": [],
   "source": [
    "#find the transpose of the matrix\n"
   ]
  },
  {
   "cell_type": "code",
   "execution_count": null,
   "metadata": {},
   "outputs": [],
   "source": [
    "# create an array wiht dimensions (6,3) of numbers between 2 and - 2\n"
   ]
  },
  {
   "cell_type": "code",
   "execution_count": null,
   "metadata": {},
   "outputs": [],
   "source": []
  }
 ],
 "metadata": {
  "colab": {
   "authorship_tag": "ABX9TyMz4pBJLAfRoCsjcXaDdce4",
   "provenance": []
  },
  "kernelspec": {
   "display_name": "Python 3 (ipykernel)",
   "language": "python",
   "name": "python3"
  },
  "language_info": {
   "codemirror_mode": {
    "name": "ipython",
    "version": 3
   },
   "file_extension": ".py",
   "mimetype": "text/x-python",
   "name": "python",
   "nbconvert_exporter": "python",
   "pygments_lexer": "ipython3",
   "version": "3.8.17"
  }
 },
 "nbformat": 4,
 "nbformat_minor": 1
}
