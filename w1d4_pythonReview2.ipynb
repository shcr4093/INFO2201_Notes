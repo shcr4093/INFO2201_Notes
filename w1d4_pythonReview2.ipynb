{
 "cells": [
  {
   "cell_type": "markdown",
   "metadata": {
    "id": "wsl6yy9yjGwV"
   },
   "source": [
    "# Week 1, Day 4\n",
    "\n",
    "**In this class we will learn about:**\n",
    "- Tuples\n",
    "- Lists\n",
    "- Dictionaries"
   ]
  },
  {
   "cell_type": "markdown",
   "metadata": {
    "id": "QhIFQHrPqXUP"
   },
   "source": [
    "## Tuples"
   ]
  },
  {
   "cell_type": "markdown",
   "metadata": {
    "id": "XEkTJhaFqcTd"
   },
   "source": [
    "A Tuple is a collection which is ordered and unchangeable. Tuples are written with round brackets. The values can be repeated, but their number is always finite.\n"
   ]
  },
  {
   "cell_type": "code",
   "execution_count": null,
   "metadata": {
    "colab": {
     "base_uri": "https://localhost:8080/"
    },
    "executionInfo": {
     "elapsed": 192,
     "status": "ok",
     "timestamp": 1686238804649,
     "user": {
      "displayName": "Anas Buhayh",
      "userId": "13931278578707862625"
     },
     "user_tz": 360
    },
    "id": "-R2Rve2hjDIf",
    "outputId": "a5f11bd2-e145-4829-d020-7f3b871280c1"
   },
   "outputs": [
    {
     "data": {
      "text/plain": [
       "str"
      ]
     },
     "execution_count": 1,
     "metadata": {},
     "output_type": "execute_result"
    }
   ],
   "source": [
    "# Is this a tuple?\n",
    "\n",
    "# type(t1)"
   ]
  },
  {
   "cell_type": "code",
   "execution_count": 1,
   "metadata": {
    "colab": {
     "base_uri": "https://localhost:8080/"
    },
    "executionInfo": {
     "elapsed": 161,
     "status": "ok",
     "timestamp": 1686238841118,
     "user": {
      "displayName": "Anas Buhayh",
      "userId": "13931278578707862625"
     },
     "user_tz": 360
    },
    "id": "eehQxcNYqicB",
    "outputId": "caf908a8-0ed5-4751-bd4e-b9ad6129686e"
   },
   "outputs": [],
   "source": [
    "# Is this a tuple\n",
    "\n",
    "# type(t2)"
   ]
  },
  {
   "cell_type": "code",
   "execution_count": 2,
   "metadata": {
    "colab": {
     "base_uri": "https://localhost:8080/"
    },
    "executionInfo": {
     "elapsed": 2,
     "status": "ok",
     "timestamp": 1686238875105,
     "user": {
      "displayName": "Anas Buhayh",
      "userId": "13931278578707862625"
     },
     "user_tz": 360
    },
    "id": "JLzOjv3uqsdg",
    "outputId": "6985295d-693d-416b-afd8-50c500117682"
   },
   "outputs": [],
   "source": [
    "# make a longer tuple\n",
    "\n",
    "\n",
    "# print the first item in that tuple \n"
   ]
  },
  {
   "cell_type": "code",
   "execution_count": 3,
   "metadata": {
    "colab": {
     "base_uri": "https://localhost:8080/"
    },
    "executionInfo": {
     "elapsed": 195,
     "status": "ok",
     "timestamp": 1686238903480,
     "user": {
      "displayName": "Anas Buhayh",
      "userId": "13931278578707862625"
     },
     "user_tz": 360
    },
    "id": "9BA2qSF4q0yg",
    "outputId": "181a55b5-143a-425a-abe5-255f7b448886"
   },
   "outputs": [],
   "source": [
    "#print a the first second and third items in the tuple\n"
   ]
  },
  {
   "cell_type": "code",
   "execution_count": 4,
   "metadata": {
    "colab": {
     "base_uri": "https://localhost:8080/",
     "height": 165
    },
    "executionInfo": {
     "elapsed": 115,
     "status": "error",
     "timestamp": 1686238922736,
     "user": {
      "displayName": "Anas Buhayh",
      "userId": "13931278578707862625"
     },
     "user_tz": 360
    },
    "id": "y0dUtF8Pq2Sv",
    "outputId": "037daa56-fb19-4f04-98c4-070eea269227"
   },
   "outputs": [],
   "source": [
    "#re-assign the second item to a letter\n",
    "\n"
   ]
  },
  {
   "cell_type": "code",
   "execution_count": 5,
   "metadata": {
    "id": "MpOb84TprlvA"
   },
   "outputs": [],
   "source": [
    "# make a tuple with strings\n",
    "\n"
   ]
  },
  {
   "cell_type": "code",
   "execution_count": null,
   "metadata": {
    "colab": {
     "base_uri": "https://localhost:8080/"
    },
    "executionInfo": {
     "elapsed": 120,
     "status": "ok",
     "timestamp": 1686239091049,
     "user": {
      "displayName": "Anas Buhayh",
      "userId": "13931278578707862625"
     },
     "user_tz": 360
    },
    "id": "FhZu6RcTrAZ4",
    "outputId": "81fc1eaa-f878-49e5-b520-7a619b811ed8"
   },
   "outputs": [],
   "source": []
  },
  {
   "cell_type": "markdown",
   "metadata": {
    "id": "a2Xf568srq45"
   },
   "source": [
    "### Excercise 1: \n",
    "1.   create a tuple with your favorite hobbies, tv shows, etc. ordered by your highest favorit to the lowest\n",
    "2.   access the last item in the tuple and print it out\n",
    "3. print out the last item in the tuple in the following formating --> \" My least favorite hobby is -----\"\n",
    "\n"
   ]
  },
  {
   "cell_type": "code",
   "execution_count": null,
   "metadata": {
    "id": "JLit-a4lrqXE"
   },
   "outputs": [],
   "source": []
  },
  {
   "cell_type": "code",
   "execution_count": null,
   "metadata": {},
   "outputs": [],
   "source": []
  },
  {
   "cell_type": "markdown",
   "metadata": {
    "id": "BoNSVqC6rWbH"
   },
   "source": [
    "## Lists"
   ]
  },
  {
   "cell_type": "markdown",
   "metadata": {},
   "source": [
    "Lists are used to store multiple items in a single variable. Lists are one of 4 built-in data types in Python used to store collections of data. They are created using square brackets"
   ]
  },
  {
   "cell_type": "code",
   "execution_count": 6,
   "metadata": {
    "id": "kzDOQGkatCJE"
   },
   "outputs": [],
   "source": [
    "#make some lists"
   ]
  },
  {
   "cell_type": "code",
   "execution_count": 7,
   "metadata": {
    "colab": {
     "base_uri": "https://localhost:8080/"
    },
    "executionInfo": {
     "elapsed": 123,
     "status": "ok",
     "timestamp": 1686239875651,
     "user": {
      "displayName": "Anas Buhayh",
      "userId": "13931278578707862625"
     },
     "user_tz": 360
    },
    "id": "4GC9z98iujKd",
    "outputId": "60849f8a-fd5a-4949-b2fd-3ee9fb7cae6c"
   },
   "outputs": [],
   "source": [
    "# Check if item in a list\n"
   ]
  },
  {
   "cell_type": "markdown",
   "metadata": {
    "id": "Sz_XBFMruuyY"
   },
   "source": [
    "### List operatoins"
   ]
  },
  {
   "cell_type": "code",
   "execution_count": null,
   "metadata": {
    "id": "Jo_J-VvhuvtF"
   },
   "outputs": [],
   "source": [
    "# make some numerical lists\n"
   ]
  },
  {
   "cell_type": "code",
   "execution_count": 8,
   "metadata": {
    "colab": {
     "base_uri": "https://localhost:8080/"
    },
    "executionInfo": {
     "elapsed": 4,
     "status": "ok",
     "timestamp": 1686240003725,
     "user": {
      "displayName": "Anas Buhayh",
      "userId": "13931278578707862625"
     },
     "user_tz": 360
    },
    "id": "UvX68yCIu2ex",
    "outputId": "f9db16f0-03a9-4c16-b696-86846177c55f"
   },
   "outputs": [],
   "source": [
    "#Multiply a list by a number?\n"
   ]
  },
  {
   "cell_type": "code",
   "execution_count": 9,
   "metadata": {
    "colab": {
     "base_uri": "https://localhost:8080/"
    },
    "executionInfo": {
     "elapsed": 6,
     "status": "ok",
     "timestamp": 1686240004007,
     "user": {
      "displayName": "Anas Buhayh",
      "userId": "13931278578707862625"
     },
     "user_tz": 360
    },
    "id": "BDWrew6Yu5nq",
    "outputId": "4206f00f-2732-4cf8-afc5-ae14c324cd87"
   },
   "outputs": [],
   "source": [
    "#Add two lists together?\n"
   ]
  },
  {
   "cell_type": "code",
   "execution_count": 10,
   "metadata": {
    "colab": {
     "base_uri": "https://localhost:8080/"
    },
    "executionInfo": {
     "elapsed": 2,
     "status": "ok",
     "timestamp": 1686240004122,
     "user": {
      "displayName": "Anas Buhayh",
      "userId": "13931278578707862625"
     },
     "user_tz": 360
    },
    "id": "xRQn-qEeu8Hi",
    "outputId": "f4f4688f-3f9b-4a17-8cc4-e6965aaa4398"
   },
   "outputs": [],
   "source": [
    "# Mulitply the first item in a by 5\n"
   ]
  },
  {
   "cell_type": "code",
   "execution_count": 11,
   "metadata": {
    "id": "_qzq7J_jvAR4"
   },
   "outputs": [],
   "source": [
    "#Reassign the first item in a to be that same number * 5\n"
   ]
  },
  {
   "cell_type": "code",
   "execution_count": 12,
   "metadata": {
    "colab": {
     "base_uri": "https://localhost:8080/"
    },
    "executionInfo": {
     "elapsed": 3,
     "status": "ok",
     "timestamp": 1686240004570,
     "user": {
      "displayName": "Anas Buhayh",
      "userId": "13931278578707862625"
     },
     "user_tz": 360
    },
    "id": "Q_c8PijyvAqY",
    "outputId": "89553f75-9cce-444b-d203-01025665c1af"
   },
   "outputs": [],
   "source": [
    "#check\n"
   ]
  },
  {
   "cell_type": "markdown",
   "metadata": {
    "id": "CyGWVOoNvNnE"
   },
   "source": [
    "### Lists slices"
   ]
  },
  {
   "cell_type": "code",
   "execution_count": 13,
   "metadata": {
    "id": "UesJ3jWNvFVD"
   },
   "outputs": [],
   "source": [
    "# create a list of strings\n"
   ]
  },
  {
   "cell_type": "code",
   "execution_count": 14,
   "metadata": {
    "colab": {
     "base_uri": "https://localhost:8080/",
     "height": 35
    },
    "executionInfo": {
     "elapsed": 125,
     "status": "ok",
     "timestamp": 1686240048079,
     "user": {
      "displayName": "Anas Buhayh",
      "userId": "13931278578707862625"
     },
     "user_tz": 360
    },
    "id": "BwF9hvMCvSBV",
    "outputId": "2f39bf01-0602-46a5-dad2-aad33704db27"
   },
   "outputs": [],
   "source": [
    "#what is the last item of the list\n"
   ]
  },
  {
   "cell_type": "code",
   "execution_count": 15,
   "metadata": {
    "colab": {
     "base_uri": "https://localhost:8080/"
    },
    "executionInfo": {
     "elapsed": 5,
     "status": "ok",
     "timestamp": 1686240056562,
     "user": {
      "displayName": "Anas Buhayh",
      "userId": "13931278578707862625"
     },
     "user_tz": 360
    },
    "id": "ljX0fZ4lvTJP",
    "outputId": "137e363f-d85e-441b-8eb2-840ef5973bd8"
   },
   "outputs": [],
   "source": [
    "#get the items at \n"
   ]
  },
  {
   "cell_type": "code",
   "execution_count": null,
   "metadata": {
    "colab": {
     "base_uri": "https://localhost:8080/"
    },
    "executionInfo": {
     "elapsed": 357,
     "status": "ok",
     "timestamp": 1686240060727,
     "user": {
      "displayName": "Anas Buhayh",
      "userId": "13931278578707862625"
     },
     "user_tz": 360
    },
    "id": "MQTRCYZAvVMi",
    "outputId": "1edb2db7-0505-439f-ee4a-14317d5b181c"
   },
   "outputs": [],
   "source": []
  },
  {
   "cell_type": "markdown",
   "metadata": {
    "id": "iGYZSDy5vb9t"
   },
   "source": [
    "### List methods (append, extend, sort, pop, and remove)"
   ]
  },
  {
   "cell_type": "code",
   "execution_count": 16,
   "metadata": {
    "colab": {
     "base_uri": "https://localhost:8080/"
    },
    "executionInfo": {
     "elapsed": 568,
     "status": "ok",
     "timestamp": 1686240220359,
     "user": {
      "displayName": "Anas Buhayh",
      "userId": "13931278578707862625"
     },
     "user_tz": 360
    },
    "id": "vxAYp1-TvWLP",
    "outputId": "4dca3bf6-e116-4f80-91b3-bd1c14942508"
   },
   "outputs": [],
   "source": [
    "#have a list to work with\n"
   ]
  },
  {
   "cell_type": "code",
   "execution_count": null,
   "metadata": {
    "id": "W_5Obo_Qv9Fb"
   },
   "outputs": [],
   "source": [
    "#appending\n"
   ]
  },
  {
   "cell_type": "code",
   "execution_count": null,
   "metadata": {
    "id": "ZLBTnjTXwAKI"
   },
   "outputs": [],
   "source": [
    "#make another list \n"
   ]
  },
  {
   "cell_type": "code",
   "execution_count": null,
   "metadata": {
    "id": "ycbL2SOqwH9a"
   },
   "outputs": [],
   "source": [
    "#extending\n"
   ]
  },
  {
   "cell_type": "code",
   "execution_count": null,
   "metadata": {
    "id": "kUxj3kKIwLLJ"
   },
   "outputs": [],
   "source": [
    "#sorting\n"
   ]
  },
  {
   "cell_type": "code",
   "execution_count": null,
   "metadata": {
    "colab": {
     "base_uri": "https://localhost:8080/"
    },
    "executionInfo": {
     "elapsed": 222,
     "status": "ok",
     "timestamp": 1686240377809,
     "user": {
      "displayName": "Anas Buhayh",
      "userId": "13931278578707862625"
     },
     "user_tz": 360
    },
    "id": "qK17HosuwiqH",
    "outputId": "270eaaf2-73ef-437a-d746-03909a660a27"
   },
   "outputs": [],
   "source": []
  },
  {
   "cell_type": "code",
   "execution_count": 18,
   "metadata": {
    "colab": {
     "base_uri": "https://localhost:8080/"
    },
    "executionInfo": {
     "elapsed": 143,
     "status": "ok",
     "timestamp": 1686240440593,
     "user": {
      "displayName": "Anas Buhayh",
      "userId": "13931278578707862625"
     },
     "user_tz": 360
    },
    "id": "4Snnh2S-wjnd",
    "outputId": "0db6ace7-b698-45de-af3d-9204ba58a4ff"
   },
   "outputs": [],
   "source": [
    "#delteing\n"
   ]
  },
  {
   "cell_type": "code",
   "execution_count": 19,
   "metadata": {
    "colab": {
     "base_uri": "https://localhost:8080/",
     "height": 35
    },
    "executionInfo": {
     "elapsed": 135,
     "status": "ok",
     "timestamp": 1686240445739,
     "user": {
      "displayName": "Anas Buhayh",
      "userId": "13931278578707862625"
     },
     "user_tz": 360
    },
    "id": "h7mGfEDTwy-R",
    "outputId": "c13e767b-2105-4c4c-ef36-58920f66e26f"
   },
   "outputs": [],
   "source": [
    "#pop()\n"
   ]
  },
  {
   "cell_type": "code",
   "execution_count": 20,
   "metadata": {
    "colab": {
     "base_uri": "https://localhost:8080/",
     "height": 35
    },
    "executionInfo": {
     "elapsed": 8,
     "status": "ok",
     "timestamp": 1686240457424,
     "user": {
      "displayName": "Anas Buhayh",
      "userId": "13931278578707862625"
     },
     "user_tz": 360
    },
    "id": "0RIGyvT7w1pK",
    "outputId": "bf6eb32a-9760-4199-a105-6c821dcbfebb"
   },
   "outputs": [],
   "source": [
    "#pop at a specific position (position 2)[not the same as 2nd item]\n",
    "\n"
   ]
  },
  {
   "cell_type": "code",
   "execution_count": 21,
   "metadata": {
    "colab": {
     "base_uri": "https://localhost:8080/",
     "height": 35
    },
    "executionInfo": {
     "elapsed": 8,
     "status": "ok",
     "timestamp": 1686240471678,
     "user": {
      "displayName": "Anas Buhayh",
      "userId": "13931278578707862625"
     },
     "user_tz": 360
    },
    "id": "Y6_lPHdZw417",
    "outputId": "0fa1789d-29ef-4020-d980-21b676e84a12"
   },
   "outputs": [],
   "source": [
    "#pop position 1\n"
   ]
  },
  {
   "cell_type": "code",
   "execution_count": 22,
   "metadata": {
    "colab": {
     "base_uri": "https://localhost:8080/",
     "height": 35
    },
    "executionInfo": {
     "elapsed": 218,
     "status": "ok",
     "timestamp": 1686240509284,
     "user": {
      "displayName": "Anas Buhayh",
      "userId": "13931278578707862625"
     },
     "user_tz": 360
    },
    "id": "szdS-w39xA3a",
    "outputId": "d98fa02c-d25c-4b3f-f549-f1a86f18b808"
   },
   "outputs": [],
   "source": [
    "#pop the first thing in the list\n"
   ]
  },
  {
   "cell_type": "code",
   "execution_count": null,
   "metadata": {
    "id": "2XQeXYfbxT3L"
   },
   "outputs": [],
   "source": [
    "#resetting the list\n"
   ]
  },
  {
   "cell_type": "code",
   "execution_count": null,
   "metadata": {
    "id": "KvcIrEb0xDt4"
   },
   "outputs": [],
   "source": [
    "#assign the popped item\n"
   ]
  },
  {
   "cell_type": "code",
   "execution_count": null,
   "metadata": {
    "id": "L2Al8rTzxYAz"
   },
   "outputs": [],
   "source": [
    "# Remove\n"
   ]
  },
  {
   "cell_type": "code",
   "execution_count": null,
   "metadata": {
    "colab": {
     "base_uri": "https://localhost:8080/"
    },
    "executionInfo": {
     "elapsed": 189,
     "status": "ok",
     "timestamp": 1686240618893,
     "user": {
      "displayName": "Anas Buhayh",
      "userId": "13931278578707862625"
     },
     "user_tz": 360
    },
    "id": "FPr1c7uyxdqt",
    "outputId": "e24930d2-d9da-420b-ed29-49c0670bcef3"
   },
   "outputs": [],
   "source": []
  },
  {
   "cell_type": "markdown",
   "metadata": {
    "id": "Fvcu8jT2yQYV"
   },
   "source": [
    "checking the length of the list"
   ]
  },
  {
   "cell_type": "markdown",
   "metadata": {
    "id": "c8k39uD2xpm-"
   },
   "source": [
    "### Excercise 2:\n",
    "1. create a list of the courses you took last year\n",
    "2. create a list of the courses you will take next year\n",
    "3. Add the lists together\n",
    "4. print the 3rd item of the new list\n",
    "5. print the middle 3 values using slicing\n",
    "6. delete one of the items in the list and assign it to a new variable\n",
    "7. can you add the deleted item back using append?\n",
    "8. sort the courses\n",
    "9. let's say you found a mistake in the list, can you update it?\n",
    "10. **BIG TASK:** \n",
    "  - add an input statement to check if the course is in your lists, \n",
    "  - **if** the course is in last years list, print out (\"I took this course last year\") \n",
    "  - **elif** it was in the next year list, print out (\"I will take it next year\") \n",
    "  - **else** print out, (\"this course is not in my lists\")"
   ]
  },
  {
   "cell_type": "code",
   "execution_count": null,
   "metadata": {},
   "outputs": [],
   "source": []
  },
  {
   "cell_type": "code",
   "execution_count": null,
   "metadata": {},
   "outputs": [],
   "source": []
  },
  {
   "cell_type": "code",
   "execution_count": null,
   "metadata": {},
   "outputs": [],
   "source": []
  },
  {
   "cell_type": "markdown",
   "metadata": {
    "id": "edDNd3sl0dbE"
   },
   "source": [
    "# Dictionaries\n",
    "\n",
    "Dictionaries are used to store data values in key:value pairs. Dictionaries cannot have two items with the same key.\n",
    "\n",
    "Dictionary items are ordered, changeable, and do not allow duplicates. Dictionary items are presented in key:value pairs, and can be referred to by using the key name.\n",
    "\n"
   ]
  },
  {
   "cell_type": "code",
   "execution_count": 24,
   "metadata": {
    "colab": {
     "base_uri": "https://localhost:8080/"
    },
    "executionInfo": {
     "elapsed": 156,
     "status": "ok",
     "timestamp": 1686241471878,
     "user": {
      "displayName": "Anas Buhayh",
      "userId": "13931278578707862625"
     },
     "user_tz": 360
    },
    "id": "7lgkife7xeb9",
    "outputId": "9b530849-9461-42d6-884b-d985031adcdd"
   },
   "outputs": [],
   "source": [
    "#make an empty dictionary\n"
   ]
  },
  {
   "cell_type": "code",
   "execution_count": 23,
   "metadata": {
    "colab": {
     "base_uri": "https://localhost:8080/"
    },
    "executionInfo": {
     "elapsed": 6,
     "status": "ok",
     "timestamp": 1686241472063,
     "user": {
      "displayName": "Anas Buhayh",
      "userId": "13931278578707862625"
     },
     "user_tz": 360
    },
    "id": "kx_-R7ob0j_a",
    "outputId": "46aa8e2e-d423-468f-abdd-6e60882316ba"
   },
   "outputs": [],
   "source": [
    "#check the type\n"
   ]
  },
  {
   "cell_type": "code",
   "execution_count": null,
   "metadata": {
    "id": "6XfFcDWr0k7x"
   },
   "outputs": [],
   "source": [
    "#make a dicitonary about a car\n"
   ]
  },
  {
   "cell_type": "code",
   "execution_count": null,
   "metadata": {
    "colab": {
     "base_uri": "https://localhost:8080/"
    },
    "executionInfo": {
     "elapsed": 125,
     "status": "ok",
     "timestamp": 1686241634145,
     "user": {
      "displayName": "Anas Buhayh",
      "userId": "13931278578707862625"
     },
     "user_tz": 360
    },
    "id": "nMbjq0zw0yj-",
    "outputId": "476470bf-400f-4b41-bb9e-73fa7560e60e"
   },
   "outputs": [],
   "source": []
  },
  {
   "cell_type": "code",
   "execution_count": 25,
   "metadata": {
    "colab": {
     "base_uri": "https://localhost:8080/"
    },
    "executionInfo": {
     "elapsed": 2,
     "status": "ok",
     "timestamp": 1686241639034,
     "user": {
      "displayName": "Anas Buhayh",
      "userId": "13931278578707862625"
     },
     "user_tz": 360
    },
    "id": "D9cixGa20y-W",
    "outputId": "0bf052ab-5177-4f1a-f41d-7a6a1c707971"
   },
   "outputs": [],
   "source": [
    "#get the brand of the car\n"
   ]
  },
  {
   "cell_type": "code",
   "execution_count": 26,
   "metadata": {
    "colab": {
     "base_uri": "https://localhost:8080/"
    },
    "executionInfo": {
     "elapsed": 319,
     "status": "ok",
     "timestamp": 1686241643442,
     "user": {
      "displayName": "Anas Buhayh",
      "userId": "13931278578707862625"
     },
     "user_tz": 360
    },
    "id": "cocXag_S07Vx",
    "outputId": "e5693bd7-aa93-42d8-bacc-532586100b0e"
   },
   "outputs": [],
   "source": [
    "#check if the value 'color' is in the dictionary\n"
   ]
  },
  {
   "cell_type": "code",
   "execution_count": null,
   "metadata": {
    "id": "fyrwrLLj1Fhm"
   },
   "outputs": [],
   "source": [
    "# make a new dictionary key:value pair assigning a name to the car \n"
   ]
  },
  {
   "cell_type": "code",
   "execution_count": 27,
   "metadata": {
    "colab": {
     "base_uri": "https://localhost:8080/"
    },
    "executionInfo": {
     "elapsed": 6,
     "status": "ok",
     "timestamp": 1686241659034,
     "user": {
      "displayName": "Anas Buhayh",
      "userId": "13931278578707862625"
     },
     "user_tz": 360
    },
    "id": "8K7B_RLD1aBU",
    "outputId": "d73b467a-afda-43b2-f291-9d73d6e5d791"
   },
   "outputs": [],
   "source": [
    "#return out all of the dictionary values\n",
    "\n"
   ]
  },
  {
   "cell_type": "code",
   "execution_count": 28,
   "metadata": {
    "colab": {
     "base_uri": "https://localhost:8080/"
    },
    "executionInfo": {
     "elapsed": 7,
     "status": "ok",
     "timestamp": 1686241666924,
     "user": {
      "displayName": "Anas Buhayh",
      "userId": "13931278578707862625"
     },
     "user_tz": 360
    },
    "id": "oH-jo2WE1cbV",
    "outputId": "b82a85ed-5b2c-419b-d3e2-ef439a05cbef"
   },
   "outputs": [],
   "source": [
    "#return all of the dictionary keys\n"
   ]
  },
  {
   "cell_type": "code",
   "execution_count": null,
   "metadata": {
    "id": "4FrRcmf91eXT"
   },
   "outputs": [],
   "source": [
    "#change the color of the car\n"
   ]
  },
  {
   "cell_type": "code",
   "execution_count": 29,
   "metadata": {
    "colab": {
     "base_uri": "https://localhost:8080/"
    },
    "executionInfo": {
     "elapsed": 4,
     "status": "ok",
     "timestamp": 1686241817032,
     "user": {
      "displayName": "Anas Buhayh",
      "userId": "13931278578707862625"
     },
     "user_tz": 360
    },
    "id": "ytS12mAK1-ih",
    "outputId": "ddfb67e1-92e5-4a6f-ed8a-b73776107d3b"
   },
   "outputs": [],
   "source": [
    "#return all the items in the dictionary\n"
   ]
  },
  {
   "cell_type": "code",
   "execution_count": 30,
   "metadata": {
    "colab": {
     "base_uri": "https://localhost:8080/",
     "height": 35
    },
    "executionInfo": {
     "elapsed": 153,
     "status": "ok",
     "timestamp": 1686241889366,
     "user": {
      "displayName": "Anas Buhayh",
      "userId": "13931278578707862625"
     },
     "user_tz": 360
    },
    "id": "DGyew-s42DBo",
    "outputId": "e8fb2b25-3f52-4d53-bf36-5c1df69b93fc"
   },
   "outputs": [],
   "source": [
    "#get rid of the name of the car\n"
   ]
  },
  {
   "cell_type": "code",
   "execution_count": null,
   "metadata": {
    "id": "kzT69VYi2VEL"
   },
   "outputs": [],
   "source": [
    "#clear the dictionary\n"
   ]
  },
  {
   "cell_type": "code",
   "execution_count": null,
   "metadata": {},
   "outputs": [],
   "source": []
  },
  {
   "cell_type": "markdown",
   "metadata": {
    "id": "pzE8oT6k2iVm"
   },
   "source": [
    "### Excercise 3:\n",
    "1. create a dictionary of an item you own\n",
    "2. Print out the dictionary keys\n",
    "3. print out the dicionary values\n",
    "4. add a key, value pair to the dictionary (another information about your object)\n",
    "5. update one of the items in the dictionary\n",
    "6. **BIG TASK:** \n",
    "  - add an input statement to read a key, and another one to read a value. The\n",
    "  - **if** the key is in the dictionary, update the current value. **else** create a new key value pair using the input informtion\n",
    "  - print out everything!"
   ]
  },
  {
   "cell_type": "code",
   "execution_count": null,
   "metadata": {
    "id": "JSTKlFar5Cq4"
   },
   "outputs": [],
   "source": [
    "\n"
   ]
  }
 ],
 "metadata": {
  "colab": {
   "authorship_tag": "ABX9TyP7EQtDrQK2zWb6ti0Ab8o3",
   "provenance": []
  },
  "kernelspec": {
   "display_name": "Python 3",
   "name": "python3"
  },
  "language_info": {
   "codemirror_mode": {
    "name": "ipython",
    "version": 3
   },
   "file_extension": ".py",
   "mimetype": "text/x-python",
   "name": "python",
   "nbconvert_exporter": "python",
   "pygments_lexer": "ipython3",
   "version": "3.8.7"
  }
 },
 "nbformat": 4,
 "nbformat_minor": 0
}
